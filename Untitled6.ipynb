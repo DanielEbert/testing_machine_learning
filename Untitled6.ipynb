{
 "cells": [
  {
   "cell_type": "code",
   "execution_count": 1,
   "metadata": {},
   "outputs": [],
   "source": [
    "import matplotlib.pyplot as plt\n",
    "import numpy as np"
   ]
  },
  {
   "cell_type": "code",
   "execution_count": 60,
   "metadata": {
    "scrolled": true
   },
   "outputs": [
    {
     "name": "stdout",
     "output_type": "stream",
     "text": [
      "[[ 2.65178316 -7.32870058]\n",
      " [-6.23344555 -6.83220787]\n",
      " [-8.26859965  8.13729179]\n",
      " [-8.76605976  1.34440264]\n",
      " [-9.25639491  8.60327206]\n",
      " [ 3.78972346 -9.26563965]\n",
      " [ 9.19499596 -6.02639256]\n",
      " [ 4.29890733  1.20012745]\n",
      " [ 6.39390641 -1.37809826]\n",
      " [-5.8593734  -2.09048064]\n",
      " [-7.32037805 -1.73257037]\n",
      " [-6.03349114  6.57784157]\n",
      " [ 3.9425433   4.54497789]\n",
      " [ 8.30968338 -6.85623169]\n",
      " [-7.6095901   2.11162181]\n",
      " [ 4.69965007 -8.62080744]\n",
      " [-7.29585715  7.94384376]\n",
      " [ 0.69197913 -3.52179983]\n",
      " [-2.06362362  7.94072901]\n",
      " [ 5.73726673  6.85497057]\n",
      " [-7.0079066  -1.2449358 ]\n",
      " [-2.81114552 -4.26110951]\n",
      " [-9.55844652  1.68426699]\n",
      " [ 7.68136255  9.96216952]\n",
      " [-7.9585321   5.10777784]\n",
      " [ 2.61553627  9.66633977]\n",
      " [ 6.87547371  4.43506208]\n",
      " [-4.8875192  -8.25018531]\n",
      " [-4.41867614  1.10330704]\n",
      " [ 6.2541314   4.92002476]\n",
      " [ 6.92895502  2.06384516]\n",
      " [ 0.07041245 -4.36508961]\n",
      " [-1.08797024  9.5436    ]\n",
      " [-2.6754472  -6.48379934]\n",
      " [ 5.47665471  4.78540892]\n",
      " [-2.07013235  3.60100982]\n",
      " [-4.5345385  -7.34782192]\n",
      " [-9.68395568 -3.20493747]\n",
      " [-5.09935933 -1.41337495]\n",
      " [ 7.80252902 -9.40479017]\n",
      " [-3.03794251  3.88760686]\n",
      " [ 0.73230693  3.06695356]\n",
      " [-4.29623163  1.90703479]\n",
      " [ 2.1357514  -8.53441496]\n",
      " [-8.50658664 -9.10286196]\n",
      " [-3.35739837 -3.33761673]\n",
      " [-6.36976471  9.5876651 ]\n",
      " [-5.46348682  2.30352611]\n",
      " [ 5.20100776  1.8961055 ]\n",
      " [-7.28815712 -6.93160828]\n",
      " [-9.21700513 -8.71786204]\n",
      " [-6.65242059  1.5478192 ]\n",
      " [ 7.55604937 -8.10707581]\n",
      " [-7.22306113  5.88038841]\n",
      " [-1.03200025  1.54338327]\n",
      " [-5.58850018  4.44799347]\n",
      " [ 7.06946075  0.82917314]\n",
      " [-1.31128807 -6.738974  ]\n",
      " [-7.45281779  0.19382712]\n",
      " [ 5.53614398 -0.94346301]\n",
      " [ 3.48297123  1.6602557 ]\n",
      " [-5.14221443  9.30075067]\n",
      " [-5.27235901 -4.95784674]\n",
      " [ 1.32102613  3.06656502]\n",
      " [-9.78477146 -2.43902609]\n",
      " [-5.66240683 -6.89516236]\n",
      " [-7.70298045 -8.88095885]\n",
      " [ 8.11114001  9.70478088]\n",
      " [-8.37640774 -0.09792825]\n",
      " [ 5.56684172  3.61153533]\n",
      " [-8.3005651   9.85459822]\n",
      " [ 6.72032444  9.58270477]\n",
      " [-2.56431114  1.318049  ]\n",
      " [-5.66321359 -8.69478708]\n",
      " [-0.8514744  -7.94231777]\n",
      " [ 4.41228405 -7.884398  ]\n",
      " [ 0.31585756  6.74338506]\n",
      " [ 9.4688592   8.19799187]\n",
      " [-4.65266387 -1.84553893]\n",
      " [ 4.43515178  3.15191318]\n",
      " [ 3.97510586 -9.18199992]\n",
      " [ 7.49002573 -8.34133568]\n",
      " [-3.44902777  0.52099535]\n",
      " [ 7.8528839   6.24293364]\n",
      " [-8.2908777   2.69032894]\n",
      " [ 8.21876939  2.21007302]\n",
      " [-9.64138966  1.65653244]\n",
      " [-0.71176099  1.49241963]\n",
      " [-8.52708483 -0.83490173]\n",
      " [-3.37571252 -0.53147459]\n",
      " [-8.22827394 -0.29176156]\n",
      " [ 0.31584564  9.03711287]\n",
      " [ 5.01756449  6.21562237]\n",
      " [ 9.55958215  7.21840608]\n",
      " [-9.0074838  -1.9313613 ]\n",
      " [-2.21359555  9.22061267]\n",
      " [-0.74181249 -1.56534641]\n",
      " [ 8.84680042  4.58152096]\n",
      " [ 0.21148069  9.16328847]\n",
      " [ 6.13203139 -1.87295195]]\n"
     ]
    }
   ],
   "source": [
    "board = (np.random.rand(100,2) - 0.5) * 2 * 10"
   ]
  },
  {
   "cell_type": "code",
   "execution_count": 61,
   "metadata": {
    "scrolled": false
   },
   "outputs": [
    {
     "data": {
      "image/png": "[encoded data removed]",
      "text/plain": [
       "<Figure size 432x288 with 1 Axes>"
      ]
     },
     "metadata": {
      "needs_background": "light"
     },
     "output_type": "display_data"
    }
   ],
   "source": [
    "xs = [x[0] for x in board]\n",
    "ys = [x[1] for x in board]\n",
    "\n",
    "for i in range(len(xs)):\n",
    "    if(xs[i] > 0):\n",
    "        plt.scatter(xs[i], ys[i], c='red')\n",
    "    else:\n",
    "        plt.scatter(xs[i], ys[i], c='blue')"
   ]
  },
  {
   "cell_type": "code",
   "execution_count": 68,
   "metadata": {},
   "outputs": [],
   "source": [
    "k = [(0,0), (0,0.1), (0,-2)]"
   ]
  },
  {
   "cell_type": "code",
   "execution_count": 48,
   "metadata": {},
   "outputs": [],
   "source": [
    "def dst(x, y):\n",
    "    return ((x[0]-y[0])**2 + (x[1]-y[1])**2)**.5"
   ]
  },
  {
   "cell_type": "code",
   "execution_count": 75,
   "metadata": {
    "scrolled": true
   },
   "outputs": [
    {
     "name": "stdout",
     "output_type": "stream",
     "text": [
      "[(-8.506586644460386, -9.102861955158046), (-6.033491141168954, 6.577841573333371), (6.928955024140883, 2.0638451634495536)]\n",
      "470.8747117392688\n",
      "[(7.4900257273721245, -8.341335677955746), (-3.449027773439486, 0.5209953501264453), (-7.223061130382071, 5.880388406085977)]\n",
      "470.8747117392688\n",
      "[(9.194995957539657, -6.026392557174778), (-4.418676139142765, 1.1033070406115097), (6.720324444804415, 9.582704766104108)]\n",
      "460.84584776820844\n",
      "[(-1.0320002514052962, 1.543383271796479), (-2.675447204433823, -6.483799336931617), (5.737266730898272, 6.854970570775267)]\n",
      "452.07604313727626\n",
      "[(2.6155362660313908, 9.666339769441159), (5.0175644858186335, 6.215622368788367), (5.536143976135217, -0.9434630112949804)]\n",
      "452.07604313727626\n",
      "[(-7.295857149215175, 7.9438437574274605), (-8.376407743247698, -0.09792824728678706), (-6.033491141168954, 6.577841573333371)]\n",
      "452.07604313727626\n",
      "[(-3.357398370179423, -3.3376167256503875), (7.681362546490254, 9.962169515769608), (-2.811145517408913, -4.261109513059907)]\n",
      "452.07604313727626\n",
      "[(5.566841717048121, 3.6115353293094032), (-9.25639490867912, 8.603272055961543), (-6.2334455536471145, -6.832207866604268)]\n",
      "452.07604313727626\n",
      "[(-7.295857149215175, 7.9438437574274605), (-8.766059763689388, 1.3444026408539256), (8.846800417870327, 4.5815209649388215)]\n",
      "452.07604313727626\n",
      "[(6.875473707264925, 4.435062083687528), (-4.652663874284235, -1.8455389332342387), (7.681362546490254, 9.962169515769608)]\n",
      "452.07604313727626\n"
     ]
    },
    {
     "data": {
      "image/png": "[encoded data removed]",
      "text/plain": [
       "<Figure size 432x288 with 1 Axes>"
      ]
     },
     "metadata": {
      "needs_background": "light"
     },
     "output_type": "display_data"
    }
   ],
   "source": [
    "colors = ['red', 'blue', 'black', 'green', 'yellow']\n",
    "\n",
    "curCost = 10000000\n",
    "curBest = None\n",
    "\n",
    "import random as rnd\n",
    "\n",
    "for iteration in range(10):\n",
    "    cost = 0\n",
    "    k = []\n",
    "    for i in range(3):\n",
    "        ind = rnd.randint(0, len(xs)-1)\n",
    "        k.append((board[ind][0], board[ind][1]))\n",
    "    print(k)\n",
    "    for i in range(10):\n",
    "        cost = 0\n",
    "        m = len(xs)\n",
    "        c = [None] * m\n",
    "        for i in range(m):\n",
    "            curMin = 10000\n",
    "            for counter, v in enumerate(k):\n",
    "                d = dst(v, board[i])\n",
    "                if d <= curMin:\n",
    "                    curMin = d\n",
    "                    c[i] = counter\n",
    "        for i in range(len(k)):\n",
    "            sumPoints = np.zeros(2)\n",
    "            numPoints = 0\n",
    "            for v in range(len(c)):\n",
    "                if c[v] == i:\n",
    "                    numPoints += 1\n",
    "                    sumPoints += board[v]\n",
    "                    plt.scatter(board[v][0], board[v][1], c=colors[i])\n",
    "            assert numPoints != 0\n",
    "            point = sumPoints / numPoints\n",
    "            k[i] = point\n",
    "        for i in range(len(c)):\n",
    "            cost += dst(board[i], k[c[i]])\n",
    "    if cost < curCost:\n",
    "        curCost = cost\n",
    "        curBest = k\n",
    "    print(curCost)\n",
    "    \n",
    "        \n",
    "for val in curBest:\n",
    "    plt.scatter(val[0], val[1], color='magenta')"
   ]
  },
  {
   "cell_type": "code",
   "execution_count": 58,
   "metadata": {},
   "outputs": [
    {
     "data": {
      "text/plain": [
       "<matplotlib.collections.PathCollection at 0x7f46f4554208>"
      ]
     },
     "execution_count": 58,
     "metadata": {},
     "output_type": "execute_result"
    },
    {
     "data": {
      "image/png": "[encoded data removed]",
      "text/plain": [
       "<Figure size 432x288 with 1 Axes>"
      ]
     },
     "metadata": {
      "needs_background": "light"
     },
     "output_type": "display_data"
    }
   ],
   "source": [
    "plt.scatter(k[0][0], k[0][1])"
   ]
  }
 ],
 "metadata": {
  "kernelspec": {
   "display_name": "Python 3",
   "language": "python",
   "name": "python3"
  },
  "language_info": {
   "codemirror_mode": {
    "name": "ipython",
    "version": 3
   },
   "file_extension": ".py",
   "mimetype": "text/x-python",
   "name": "python",
   "nbconvert_exporter": "python",
   "pygments_lexer": "ipython3",
   "version": "3.7.3"
  }
 },
 "nbformat": 4,
 "nbformat_minor": 2
}
